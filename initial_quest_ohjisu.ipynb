{
  "nbformat": 4,
  "nbformat_minor": 0,
  "metadata": {
    "colab": {
      "provenance": [],
      "authorship_tag": "ABX9TyNXqH7GXPeP9ZMv51o6bYXg",
      "include_colab_link": true
    },
    "kernelspec": {
      "name": "python3",
      "display_name": "Python 3"
    },
    "language_info": {
      "name": "python"
    }
  },
  "cells": [
    {
      "cell_type": "markdown",
      "metadata": {
        "id": "view-in-github",
        "colab_type": "text"
      },
      "source": [
        "<a href=\"https://colab.research.google.com/github/ohjisu320/study_temps/blob/main/initial_quest_ohjisu.ipynb\" target=\"_parent\"><img src=\"https://colab.research.google.com/assets/colab-badge.svg\" alt=\"Open In Colab\"/></a>"
      ]
    },
    {
      "cell_type": "markdown",
      "source": [
        "변수는 숫자만"
      ],
      "metadata": {
        "id": "lUTqoxNvvcWg"
      }
    },
    {
      "cell_type": "code",
      "execution_count": null,
      "metadata": {
        "colab": {
          "base_uri": "https://localhost:8080/"
        },
        "id": "ppDqemNmFOyv",
        "outputId": "dc201eb7-24b8-49bd-bb2c-8033ef211a85"
      },
      "outputs": [
        {
          "output_type": "stream",
          "name": "stdout",
          "text": [
            "28 을 곱셈했음\n"
          ]
        }
      ],
      "source": [
        "#1\n",
        "input_first=4\n",
        "input_second=7\n",
        "result=input_first*input_second\n",
        "print(result,\"을 곱셈했음\")"
      ]
    },
    {
      "cell_type": "code",
      "source": [
        "#2  문자값 출력\n",
        "input_first=3\n",
        "input_second=3\n",
        "result=input_first*input_second\n",
        "print(result,\"를 곱셈했음\")"
      ],
      "metadata": {
        "colab": {
          "base_uri": "https://localhost:8080/"
        },
        "id": "2CqLijvaFYU8",
        "outputId": "cd9208d3-3106-4792-cb0e-938f3b44cfe3"
      },
      "execution_count": 1,
      "outputs": [
        {
          "output_type": "stream",
          "name": "stdout",
          "text": [
            "9 를 곱셈했음\n"
          ]
        }
      ]
    },
    {
      "cell_type": "code",
      "source": [],
      "metadata": {
        "id": "H-vn5uKJFnZU"
      },
      "execution_count": null,
      "outputs": []
    }
  ]
}