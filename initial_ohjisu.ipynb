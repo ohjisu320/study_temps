{
  "nbformat": 4,
  "nbformat_minor": 0,
  "metadata": {
    "colab": {
      "provenance": [],
      "authorship_tag": "ABX9TyOLhgo7bOO0z/INzZUDiM4w",
      "include_colab_link": true
    },
    "kernelspec": {
      "name": "python3",
      "display_name": "Python 3"
    },
    "language_info": {
      "name": "python"
    }
  },
  "cells": [
    {
      "cell_type": "markdown",
      "metadata": {
        "id": "view-in-github",
        "colab_type": "text"
      },
      "source": [
        "<a href=\"https://colab.research.google.com/github/ohjisu320/study_temps/blob/main/initial_ohjisu.ipynb\" target=\"_parent\"><img src=\"https://colab.research.google.com/assets/colab-badge.svg\" alt=\"Open In Colab\"/></a>"
      ]
    },
    {
      "cell_type": "code",
      "source": [
        "print(\"github\")"
      ],
      "metadata": {
        "id": "ASzh5VBOGiwj",
        "outputId": "a5e9d1c7-d5be-4f81-ab9d-008ebb32a3cf",
        "colab": {
          "base_uri": "https://localhost:8080/"
        }
      },
      "execution_count": null,
      "outputs": [
        {
          "output_type": "stream",
          "name": "stdout",
          "text": [
            "github\n"
          ]
        }
      ]
    },
    {
      "cell_type": "code",
      "source": [
        "#quest1\n",
        "print(\"오지수는 데이터 엔지니어 양성과정을 듣습니다.\")"
      ],
      "metadata": {
        "colab": {
          "base_uri": "https://localhost:8080/"
        },
        "id": "VBKkQHKVn-3l",
        "outputId": "bc5876fb-24d1-45f1-e96c-818e52699d62"
      },
      "execution_count": null,
      "outputs": [
        {
          "output_type": "stream",
          "name": "stdout",
          "text": [
            "오지수는 데이터 엔지니어 양성과정을 듣습니다.\n"
          ]
        }
      ]
    },
    {
      "cell_type": "code",
      "source": [
        "# 숫자화된 문자 출력 with 상수\n",
        "print(\"4 + 5\")"
      ],
      "metadata": {
        "colab": {
          "base_uri": "https://localhost:8080/"
        },
        "id": "P1RsLioatkOW",
        "outputId": "7687b4e7-c6d6-474b-b759-8eceb8344645"
      },
      "execution_count": null,
      "outputs": [
        {
          "output_type": "stream",
          "name": "stdout",
          "text": [
            "4 + 5\n"
          ]
        }
      ]
    },
    {
      "cell_type": "code",
      "execution_count": null,
      "metadata": {
        "colab": {
          "base_uri": "https://localhost:8080/"
        },
        "id": "eTzHaGhKjmbD",
        "outputId": "41df42e3-42da-4f97-fcff-d47b2a825cb5"
      },
      "outputs": [
        {
          "output_type": "stream",
          "name": "stdout",
          "text": [
            "안녕하세요. 첫 개발 시작입니다.\n"
          ]
        }
      ],
      "source": [
        "# 여긴 화면 출력 명령어\n",
        "print(\"안녕하세요. 첫 개발 시작입니다.\") #안녕. 출력"
      ]
    },
    {
      "cell_type": "code",
      "source": [
        "# 숫자 출력 with 상수\n",
        "print(4 + 5)"
      ],
      "metadata": {
        "colab": {
          "base_uri": "https://localhost:8080/"
        },
        "id": "aGKFQ0vyuTWk",
        "outputId": "b48910ab-c652-4f8c-d676-54a3590ce49e"
      },
      "execution_count": null,
      "outputs": [
        {
          "output_type": "stream",
          "name": "stdout",
          "text": [
            "9\n"
          ]
        }
      ]
    },
    {
      "cell_type": "code",
      "source": [
        "# 숫자화된 문자 출력 with 변수\n",
        "numberwithval=\"4 + 5\"\n",
        "print(numberwithval)"
      ],
      "metadata": {
        "colab": {
          "base_uri": "https://localhost:8080/"
        },
        "id": "AtL28SGkutBM",
        "outputId": "881c5b76-d0ea-4683-b1b3-450a1ab64ae2"
      },
      "execution_count": null,
      "outputs": [
        {
          "output_type": "stream",
          "name": "stdout",
          "text": [
            "4 + 5\n"
          ]
        }
      ]
    },
    {
      "cell_type": "code",
      "source": [
        "#quest2\n",
        "numberwithval=\"40 + 50\"\n",
        "print(numberwithval)"
      ],
      "metadata": {
        "colab": {
          "base_uri": "https://localhost:8080/"
        },
        "id": "zlppFpB7x_Eu",
        "outputId": "563369da-11db-4d9c-b451-ea7c224c6558"
      },
      "execution_count": null,
      "outputs": [
        {
          "output_type": "stream",
          "name": "stdout",
          "text": [
            "40 + 50\n"
          ]
        }
      ]
    },
    {
      "cell_type": "code",
      "source": [
        "# 숫자화된 변수 출력 with 변수\n",
        "numbers= numberwithval + \" = 90\"\n",
        "print(numbers)"
      ],
      "metadata": {
        "colab": {
          "base_uri": "https://localhost:8080/"
        },
        "id": "3I-pFJRG06cc",
        "outputId": "e0d5d083-1ea3-459e-dc5d-a692ebe0f531"
      },
      "execution_count": null,
      "outputs": [
        {
          "output_type": "stream",
          "name": "stdout",
          "text": [
            "40 + 50 = 90\n"
          ]
        }
      ]
    },
    {
      "cell_type": "code",
      "source": [
        "define_number=10\n",
        "numberwithval=numberwithval+str(define_number)\n",
        "print(numberwithval)"
      ],
      "metadata": {
        "colab": {
          "base_uri": "https://localhost:8080/"
        },
        "id": "rZWb3AWyxSst",
        "outputId": "f6dd53b7-f181-43d6-e4a1-8807f03e02c2"
      },
      "execution_count": null,
      "outputs": [
        {
          "output_type": "stream",
          "name": "stdout",
          "text": [
            "40 + 5010\n"
          ]
        }
      ]
    },
    {
      "cell_type": "code",
      "source": [
        "# 데이터 타입이 숫자 with 변수\n",
        "result= 4+5\n",
        "print(result)"
      ],
      "metadata": {
        "colab": {
          "base_uri": "https://localhost:8080/"
        },
        "id": "xadZFRtl_NSc",
        "outputId": "bad3a572-422e-420c-f4ce-26f9a069ded1"
      },
      "execution_count": null,
      "outputs": [
        {
          "output_type": "stream",
          "name": "stdout",
          "text": [
            "9\n"
          ]
        }
      ]
    },
    {
      "cell_type": "code",
      "source": [
        "# 두 수를 입력 받아 변수에 넣고 결과 출력\n",
        "input=4\n",
        "inputtwo=5\n",
        "result= input+inputtwo\n",
        "print(result)"
      ],
      "metadata": {
        "id": "rdqy8h64n8ml",
        "colab": {
          "base_uri": "https://localhost:8080/"
        },
        "outputId": "08c0a127-5a75-4d2b-c16e-7104bb497b29"
      },
      "execution_count": null,
      "outputs": [
        {
          "output_type": "stream",
          "name": "stdout",
          "text": [
            "9\n"
          ]
        }
      ]
    },
    {
      "cell_type": "code",
      "source": [
        "# 위에 내용 반복\n",
        "input=8\n",
        "inputtwo=9\n",
        "result= input+inputtwo\n",
        "print(result)"
      ],
      "metadata": {
        "id": "d3pgl2i1njWP",
        "colab": {
          "base_uri": "https://localhost:8080/"
        },
        "outputId": "c30a4c5d-c02b-43ac-fb63-d9b4b5acf576"
      },
      "execution_count": null,
      "outputs": [
        {
          "output_type": "stream",
          "name": "stdout",
          "text": [
            "17\n"
          ]
        }
      ]
    },
    {
      "cell_type": "code",
      "source": [],
      "metadata": {
        "id": "PPfXsLlHmUwN"
      },
      "execution_count": null,
      "outputs": []
    },
    {
      "cell_type": "code",
      "source": [],
      "metadata": {
        "id": "thzPf_ygl0gV"
      },
      "execution_count": null,
      "outputs": []
    },
    {
      "cell_type": "code",
      "source": [],
      "metadata": {
        "id": "Uj1G_-ve6sxF"
      },
      "execution_count": null,
      "outputs": []
    },
    {
      "cell_type": "code",
      "source": [],
      "metadata": {
        "id": "oDexd2C1_NKl"
      },
      "execution_count": null,
      "outputs": []
    },
    {
      "cell_type": "code",
      "source": [
        "#여긴 화면 출력 명령어\n",
        "print(\"안녕하세요. 첫 개발 시작입니다.\")#안녕. 출력\n",
        "#quest1\n",
        "print(\"오지수는 데이터 엔지니어 양성과정을 듣습니다.\")\n",
        "#숫자화된 문자 출력 with 상수\n",
        "print(\"4+5\")\n",
        "#숫자 출력 with 상수\n",
        "print(4+5)\n",
        "#숫자화된 문자 출력 with 변수\n",
        "numberwithval=\"4+5\"\n",
        "print(numberwithval)\n",
        "#quest2\n",
        "numberwithval=\"40+50\"\n",
        "print(numberwithval)\n",
        "#숫자화된 변수 출력 with 변수\n",
        "numbers=numberwithval+\"=90\"\n",
        "print(numbers)\n",
        "define_number=10\n",
        "numberwithval=numberwithval+str(define_number)\n",
        "print(numberwithval)"
      ],
      "metadata": {
        "colab": {
          "base_uri": "https://localhost:8080/"
        },
        "id": "BJNr8UAAlxbW",
        "outputId": "a7d98830-30ee-4202-8768-4266e5026b14"
      },
      "execution_count": null,
      "outputs": [
        {
          "output_type": "stream",
          "name": "stdout",
          "text": [
            "안녕하세요. 첫 개발 시작입니다.\n",
            "오지수는 데이터 엔지니어 양성과정을 듣습니다.\n",
            "4+5\n",
            "9\n",
            "4+5\n",
            "40+50\n",
            "40+50=90\n",
            "40+5010\n"
          ]
        }
      ]
    },
    {
      "cell_type": "code",
      "source": [
        "#quest\n",
        "print(\"오지수는 데이터 엔지니어 양성과정을 듣습니다.\")\n",
        "#숫자화된 문자 출력 with 상수\n",
        "print(\"4+5\")\n",
        "#여긴 화면 출력 명령어\n",
        "print(\"안녕하세요. 첫 개발 시작입니다.\")#안녕. 출력\n",
        "#숫자 출력 with 상수\n",
        "print(4+5)#숫자화된 문자 출력 with 변수\n",
        "numberwithval=\"4+5\"\n",
        "print(numberwithval)\n",
        "#quest2\n",
        "numberwithval=\"40+50\"\n",
        "print(numberwithval)\n",
        "#숫자화된 변수 출력 with 변수\n",
        "numbers=numberwithval+\"=90\"\n",
        "print(numbers)\n",
        "define_number=10\n",
        "numberwithval=numberwithval+str(define_number)\n",
        "print(numberwithval)\n"
      ],
      "metadata": {
        "id": "sr_7_37m_ezz",
        "colab": {
          "base_uri": "https://localhost:8080/"
        },
        "outputId": "3914be7e-3067-4c43-e2e9-4f1c7c4b6014"
      },
      "execution_count": null,
      "outputs": [
        {
          "output_type": "stream",
          "name": "stdout",
          "text": [
            "오지수는 데이터 엔지니어 양성과정을 듣습니다.\n",
            "4+5\n",
            "안녕하세요. 첫 개발 시작입니다.\n",
            "9\n",
            "4+5\n",
            "40+50\n",
            "40+50=90\n",
            "40+5010\n"
          ]
        }
      ]
    },
    {
      "cell_type": "code",
      "source": [],
      "metadata": {
        "id": "FdhmISfBig9S"
      },
      "execution_count": null,
      "outputs": []
    }
  ]
}